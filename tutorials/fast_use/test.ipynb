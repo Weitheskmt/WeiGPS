{
 "cells": [
  {
   "cell_type": "code",
   "execution_count": 22,
   "metadata": {},
   "outputs": [],
   "source": [
    "from weigps import WeiGPS\n",
    "import json\n",
    "import warnings\n",
    "warnings.filterwarnings(\"ignore\")\n",
    "import numpy as np\n",
    "import matplotlib.pyplot as plt"
   ]
  },
  {
   "cell_type": "code",
   "execution_count": 170,
   "metadata": {},
   "outputs": [],
   "source": [
    "light_size = 1\n",
    "molecule_size = 1000000\n",
    "disorder = 2 # std_dev\n",
    "frequency_molecule = list(WeiGPS.get_distribution(mean=0,num_samples=molecule_size,disorder=disorder,random_seed=int(10),cut_off=[-7,7]))\n",
    "frequency_light = list(WeiGPS.get_distribution(mean=np.mean(frequency_molecule),num_samples=light_size,disorder=0))\n",
    "hbar = 1\n",
    "dt = 0.005\n",
    "tf = 100\n",
    "Floquet_level = 3\n",
    "\n",
    "phase = list((0)*np.ones(molecule_size))\n",
    "\n",
    "phase_random = None\n",
    "Omega = 1\n",
    "V_coupling_strength = 0.01\n",
    "\n",
    "gamma = 0.1\n",
    "phase_up = 1\n",
    "phase_dw = 32\n",
    "\n",
    "w_left_lim = -20\n",
    "w_right_lim = 20\n",
    "w_length_lim = 1000\n",
    "\n",
    "data = {\n",
    "    \"light_size\": light_size, # the number of photon modes\n",
    "    \"molecule_size\": molecule_size, # the number of molecule vibrational modes\n",
    "    \"hbar\": hbar, # default 1\n",
    "\n",
    "    \"frequency_molecule\": frequency_molecule, # vibrational frequency\n",
    "    \"frequency_light\": frequency_light, # [frequency_light]\n",
    "    \"V_coupling_strength\":V_coupling_strength, #1, 1.5, 2\n",
    "    \n",
    "    \"dt\": dt, # correlation function dt\n",
    "    \"tf\": tf, # correlation function tf\n",
    "    \"Floquet_level\": Floquet_level, # Floquet level\n",
    "    \"disorder\": disorder, # std_dev\n",
    "\n",
    "    \"gamma\":gamma, # another gaussian width (std_dev)\n",
    "\n",
    "    \"phase_random\": phase_random, # random SEED, label random phase; if not random phase no need set None;\n",
    "    \"phase\":phase, # phase: cos(\\Omega*t+phase)\n",
    "    \"phase_up\": phase_up, # range of 1/32 * [-np.pi, np.pi]\n",
    "    \"phase_dw\": phase_dw, # range of 1/32 * [-np.pi, np.pi]\n",
    "    \"Omega\": Omega, # w: cos(\\Omega*t+phase)  0 0.1 0.5\n",
    "    \n",
    "    \"w_left_lim\": w_left_lim, # spectrum left end\n",
    "    \"w_right_lim\": w_right_lim, # spectrum right end\n",
    "    \"w_length_lim\": w_length_lim, # spectrum the number of w\n",
    "}\n",
    "\n",
    "\n",
    "json_file_path = \"input.json\"\n",
    "\n",
    "with open(json_file_path, \"w\") as json_file:\n",
    "    json.dump(data, json_file)\n"
   ]
  },
  {
   "cell_type": "code",
   "execution_count": null,
   "metadata": {},
   "outputs": [],
   "source": [
    "GPS = WeiGPS(json_file_path)\n",
    "w_GPS, p_GPS = GPS.get_DOS(k=6)\n",
    "GPS.plot_spectrum(w_GPS,p_GPS/10,SAVE=True,PLOT=True)"
   ]
  },
  {
   "cell_type": "code",
   "execution_count": 175,
   "metadata": {},
   "outputs": [],
   "source": [
    "TIME_GPS, observable_GPS = GPS.run_dynamics()\n",
    "GPS.plot_corr(TIME_GPS, observable_GPS, SAVE=True, PLOT=True)"
   ]
  }
 ],
 "metadata": {
  "kernelspec": {
   "display_name": "wei",
   "language": "python",
   "name": "python3"
  },
  "language_info": {
   "codemirror_mode": {
    "name": "ipython",
    "version": 3
   },
   "file_extension": ".py",
   "mimetype": "text/x-python",
   "name": "python",
   "nbconvert_exporter": "python",
   "pygments_lexer": "ipython3",
   "version": "3.11.5"
  }
 },
 "nbformat": 4,
 "nbformat_minor": 2
}
